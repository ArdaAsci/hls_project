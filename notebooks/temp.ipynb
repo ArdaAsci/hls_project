{
 "cells": [
  {
   "cell_type": "code",
   "execution_count": 1,
   "source": [
    "import os\r\n",
    "os.chdir(\"d:\\\\vivado\\\\vitis_rl\\\\\")\r\n",
    "from src.directives import *\r\n",
    "import xml.etree.ElementTree as ET\r\n",
    "from src.csynth import CsynthFile"
   ],
   "outputs": [],
   "metadata": {}
  },
  {
   "cell_type": "code",
   "execution_count": 2,
   "source": [
    "pdir = PipelineDirective(\"loop name\", 1, \"\")\r\n",
    "print(pdir)\r\n",
    "pdir.set_ii(5)\r\n",
    "pdir.print()\r\n",
    "isinstance(pdir, BasicDirective)"
   ],
   "outputs": [
    {
     "output_type": "stream",
     "name": "stdout",
     "text": [
      "PipelineDirective(loop_name='loop name', ii=1, others='')\n"
     ]
    },
    {
     "output_type": "execute_result",
     "data": {
      "text/plain": [
       "False"
      ]
     },
     "metadata": {},
     "execution_count": 2
    }
   ],
   "metadata": {}
  },
  {
   "cell_type": "code",
   "execution_count": 18,
   "source": [
    "root = ET.parse(\"matrixmul_prj\\\\solution1\\\\syn\\\\report\\\\matrixmul_Pipeline_Row_Col_Product_csynth.xml\").getroot()\r\n",
    "perf = root.find(\"./PerformanceEstimates/SummaryOfOverallLatency/Average-caseLatency\")\r\n",
    "dsp = root.find(\"./AreaEstimates/Resources/DSP\")\r\n",
    "\r\n"
   ],
   "outputs": [],
   "metadata": {}
  },
  {
   "cell_type": "code",
   "execution_count": 7,
   "source": [
    "cs = CsynthFile(\"matrixmul_prj\\\\solution1\\\\syn\\\\report\\\\matrixmul_Pipeline_Row_Col_Product_csynth.xml\")\r\n",
    "\r\n",
    "cs.ff = 50"
   ],
   "outputs": [
    {
     "output_type": "error",
     "ename": "AttributeError",
     "evalue": "can't set attribute",
     "traceback": [
      "\u001b[1;31m---------------------------------------------------------------------------\u001b[0m",
      "\u001b[1;31mAttributeError\u001b[0m                            Traceback (most recent call last)",
      "\u001b[1;32m~\\AppData\\Local\\Temp/ipykernel_11600/478150320.py\u001b[0m in \u001b[0;36m<module>\u001b[1;34m\u001b[0m\n\u001b[0;32m      1\u001b[0m \u001b[0mcs\u001b[0m \u001b[1;33m=\u001b[0m \u001b[0mCsynth\u001b[0m\u001b[1;33m(\u001b[0m\u001b[1;34m\"matrixmul_prj\\\\solution1\\\\syn\\\\report\\\\matrixmul_Pipeline_Row_Col_Product_csynth.xml\"\u001b[0m\u001b[1;33m)\u001b[0m\u001b[1;33m\u001b[0m\u001b[1;33m\u001b[0m\u001b[0m\n\u001b[0;32m      2\u001b[0m \u001b[1;33m\u001b[0m\u001b[0m\n\u001b[1;32m----> 3\u001b[1;33m \u001b[0mcs\u001b[0m\u001b[1;33m.\u001b[0m\u001b[0mff\u001b[0m \u001b[1;33m=\u001b[0m \u001b[1;36m50\u001b[0m\u001b[1;33m\u001b[0m\u001b[1;33m\u001b[0m\u001b[0m\n\u001b[0m",
      "\u001b[1;31mAttributeError\u001b[0m: can't set attribute"
     ]
    }
   ],
   "metadata": {}
  },
  {
   "cell_type": "code",
   "execution_count": 19,
   "source": [
    "test = root.find(\"./PerformanceEstimates/SummaryOfOverallLatency/unit\")\r\n",
    "test.text"
   ],
   "outputs": [
    {
     "output_type": "execute_result",
     "data": {
      "text/plain": [
       "'clock cycles'"
      ]
     },
     "metadata": {},
     "execution_count": 19
    }
   ],
   "metadata": {}
  }
 ],
 "metadata": {
  "orig_nbformat": 4,
  "language_info": {
   "name": "python",
   "version": "3.9.7",
   "mimetype": "text/x-python",
   "codemirror_mode": {
    "name": "ipython",
    "version": 3
   },
   "pygments_lexer": "ipython3",
   "nbconvert_exporter": "python",
   "file_extension": ".py"
  },
  "kernelspec": {
   "name": "python3",
   "display_name": "Python 3.9.7 64-bit ('vitis': conda)"
  },
  "interpreter": {
   "hash": "4b1dacdb0b06be6146682415173e3938c5d6d428560fbb5e27808cbe1070aef3"
  }
 },
 "nbformat": 4,
 "nbformat_minor": 2
}