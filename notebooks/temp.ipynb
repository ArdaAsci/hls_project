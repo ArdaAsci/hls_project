{
 "cells": [
  {
   "cell_type": "code",
   "execution_count": 18,
   "source": [
    "import os\r\n",
    "os.chdir(\"d:\\\\vivado\\\\vitis_rl\\\\\")\r\n",
    "from src.directives import *"
   ],
   "outputs": [],
   "metadata": {}
  },
  {
   "cell_type": "code",
   "execution_count": 30,
   "source": [
    "pdir = PipelineDirective(\"loop name\", 1, \"\")\r\n",
    "print(pdir)\r\n",
    "pdir.set_ii(5)\r\n",
    "pdir.print()\r\n",
    "isinstance(pdir, BasicDirective)"
   ],
   "outputs": [
    {
     "output_type": "stream",
     "name": "stdout",
     "text": [
      "PipelineDirective(loop_name='loop name', ii=1, others='')\n"
     ]
    },
    {
     "output_type": "execute_result",
     "data": {
      "text/plain": [
       "False"
      ]
     },
     "metadata": {},
     "execution_count": 30
    }
   ],
   "metadata": {}
  },
  {
   "cell_type": "code",
   "execution_count": 24,
   "source": [
    "dir_file = open(\"./directives.tcl\")\r\n"
   ],
   "outputs": [],
   "metadata": {}
  },
  {
   "cell_type": "code",
   "execution_count": null,
   "source": [],
   "outputs": [],
   "metadata": {}
  }
 ],
 "metadata": {
  "orig_nbformat": 4,
  "language_info": {
   "name": "python",
   "version": "3.9.7",
   "mimetype": "text/x-python",
   "codemirror_mode": {
    "name": "ipython",
    "version": 3
   },
   "pygments_lexer": "ipython3",
   "nbconvert_exporter": "python",
   "file_extension": ".py"
  },
  "kernelspec": {
   "name": "python3",
   "display_name": "Python 3.9.7 64-bit ('vitis': conda)"
  },
  "interpreter": {
   "hash": "4b1dacdb0b06be6146682415173e3938c5d6d428560fbb5e27808cbe1070aef3"
  }
 },
 "nbformat": 4,
 "nbformat_minor": 2
}