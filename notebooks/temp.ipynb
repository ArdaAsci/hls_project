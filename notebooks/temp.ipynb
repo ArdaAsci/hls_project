{
 "cells": [
  {
   "cell_type": "code",
   "execution_count": null,
   "metadata": {},
   "outputs": [],
   "source": [
    "import os\n",
    "os.chdir(os.environ[\"HOME\"] + \"/dev/hls_project/\")\n",
    "from src.directives import *\n",
    "import xml.etree.ElementTree as ET\n",
    "from src.csynth import Csynth, CsynthModule\n",
    "from src.loops import Loop\n",
    "from src.tcl_reader import Tcl, Tcl2\n",
    "import numpy as np"
   ]
  },
  {
   "cell_type": "code",
   "execution_count": null,
   "metadata": {},
   "outputs": [],
   "source": [
    "import gym\n",
    "from gym import spaces\n",
    "import numpy as np\n",
    "from stable_baselines3 import PPO\n",
    "from collections import OrderedDict\n",
    "class JunkEnv(gym.Env):\n",
    "\n",
    "    def __init__(self) -> None:\n",
    "        super().__init__()\n",
    "\n",
    "    \n",
    "        self.action_space = spaces.MultiDiscrete([3,3])  # Each loop requires 3 discrete actions\n",
    "        print(self.action_space.sample())\n",
    "        self.observation_space = spaces.Box(low=1, high=100, shape=(1,))\n",
    "        print(self.observation_space.sample())\n",
    "        self.observation_space = spaces.Dict(\n",
    "            {\n",
    "                \"rank\": spaces.Discrete(3),\n",
    "                \"total_loops\": spaces.Discrete(3)\n",
    "            }\n",
    "        )\n",
    "        print(self.observation_space.sample())\n",
    "\n",
    "    def step(self, action):\n",
    "        print(action, end=\" \")\n",
    "        return self.ret(), 1, True, {}\n",
    "        return 10, 1, True, {}\n",
    "\n",
    "    def reset(self):\n",
    "        return self.ret()\n",
    "        return np.array([10])\n",
    "\n",
    "    @staticmethod\n",
    "    def ret():\n",
    "        return np.array([(\"rank\", 0), (\"total_loops\", 1)])\n",
    "\n",
    "\n",
    "env = JunkEnv()\n",
    "\n",
    "ppo = PPO(\"MlpPolicy\", env)\n",
    "ppo.learn(total_timesteps=10)\n"
   ]
  },
  {
   "cell_type": "code",
   "execution_count": null,
   "metadata": {},
   "outputs": [],
   "source": [
    "from src.loops import Loop, LoopList\n",
    "row = Loop(name=\"Row\", iteration_count=7, parent_loop=None, rank=0)\n",
    "col = Loop(name=\"Col\", iteration_count=7, parent_loop=row)\n",
    "product = Loop(name=\"Product\", iteration_count=7, parent_loop=col)\n",
    "product1 = Loop(name=\"Product1\", iteration_count=7, parent_loop=col)\n",
    "product2 = Loop(name=\"Product1\", iteration_count=7, parent_loop=product1)\n",
    "row1 = Loop(name=\"Row1\", iteration_count=7, parent_loop=None, rank=1)\n",
    "col1 = Loop(name=\"Col1\", iteration_count=7, parent_loop=row1)\n",
    "loops = LoopList(row, col, product, row1, col1)\n",
    "for loop in loops.loops:\n",
    "    print"
   ]
  },
  {
   "cell_type": "code",
   "execution_count": null,
   "metadata": {},
   "outputs": [],
   "source": [
    "tcl = Tcl2(\"matrixmul_prj\", \"matrixmul\", \"solution1\")\n",
    "tcl.add_loop_pragmas([\"asd\", \"zxc\"], np.array([1, 2, 3, 4]))\n",
    "tcl.set_loop_pragmas(\"asd\", np.array([-1, -2]))\n",
    "tcl.directives"
   ]
  },
  {
   "cell_type": "code",
   "execution_count": 8,
   "metadata": {},
   "outputs": [
    {
     "data": {
      "text/plain": [
       "array([0., 1., 0.])"
      ]
     },
     "execution_count": 8,
     "metadata": {},
     "output_type": "execute_result"
    }
   ],
   "source": [
    "arr1 = np.array([5, 4, 3])\n",
    "arr2 = np.array([0, 4, 0])\n",
    "np.divide(arr1, arr2, out=np.zeros_like(arr1,), where=arr2 != 0)"
   ]
  },
  {
   "cell_type": "code",
   "execution_count": 71,
   "metadata": {},
   "outputs": [
    {
     "data": {
      "text/plain": [
       "10"
      ]
     },
     "execution_count": 71,
     "metadata": {},
     "output_type": "execute_result"
    }
   ],
   "source": [
    "obs_space = {\n",
    "        \"rank\": spaces.Box(low=1, high=100, shape=(1,)),\n",
    "        \"total_loops\": spaces.Box(low=1, high=100, shape=(1,)),\n",
    "        \"curr_nested_number\": spaces.Box(low=1, high=100, shape=(1,)),\n",
    "        \"nested_number\": spaces.Box(low=1, high=100, shape=(1,)),\n",
    "        \"loop_iter_count\": spaces.Box(low=1, high=100, shape=(1,)),\n",
    "        \"curr_latency\": spaces.Box(low=1, high=1000, shape=(1,)),\n",
    "        \"utilization\": spaces.Box(low=0, high=1, shape=(5,)),\n",
    "        \"curr_pragma\": spaces.Box(low=0, high=100, shape=(10,)),\n",
    "    }\n",
    "boxes = list(obs_space.values())\n",
    "highs = [int(box.high[0]) for box in boxes]\n",
    "shapes = [int(box.shape[0]) for box in boxes]\n",
    "lows = [int(box.low[0]) for box in boxes]\n",
    "\"\"\"\n",
    "r = [x for i, j in zip(highs, numbers) for x in i*j]\n",
    "[element.high[0] for element in ls]\n",
    "[element.low[0] for element in ls]\n",
    "\"\"\"\n",
    "highs\n",
    "lows\n",
    "shapes\n",
    "np.repeat(highs, shapes)\n",
    "rank = obs_space[\"curr_pragma\"]\n",
    "rank.shape[0]"
   ]
  }
 ],
 "metadata": {
  "interpreter": {
   "hash": "65fc8aadd855cccca49b5fd271cdb60d59a460ec889c37b2527b403a563dc1ee"
  },
  "kernelspec": {
   "display_name": "Python 3.9.7 64-bit ('hls_env': conda)",
   "name": "python3"
  },
  "language_info": {
   "codemirror_mode": {
    "name": "ipython",
    "version": 3
   },
   "file_extension": ".py",
   "mimetype": "text/x-python",
   "name": "python",
   "nbconvert_exporter": "python",
   "pygments_lexer": "ipython3",
   "version": "3.9.7"
  },
  "orig_nbformat": 4
 },
 "nbformat": 4,
 "nbformat_minor": 2
}
